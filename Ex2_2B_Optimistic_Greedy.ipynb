{
  "nbformat": 4,
  "nbformat_minor": 0,
  "metadata": {
    "kernelspec": {
      "display_name": "Python 3",
      "language": "python",
      "name": "python3"
    },
    "language_info": {
      "codemirror_mode": {
        "name": "ipython",
        "version": 3
      },
      "file_extension": ".py",
      "mimetype": "text/x-python",
      "name": "python",
      "nbconvert_exporter": "python",
      "pygments_lexer": "ipython3",
      "version": "3.6.1"
    },
    "colab": {
      "name": "Ex2.2B Optimistic Greedy.ipynb",
      "provenance": [],
      "include_colab_link": true
    }
  },
  "cells": [
    {
      "cell_type": "markdown",
      "metadata": {
        "id": "view-in-github",
        "colab_type": "text"
      },
      "source": [
        "<a href=\"https://colab.research.google.com/github/skywalker0803r/Microsoft-DAT257x-Reinforcement-Learning-Explained/blob/master/Ex2_2B_Optimistic_Greedy.ipynb\" target=\"_parent\"><img src=\"https://colab.research.google.com/assets/colab-badge.svg\" alt=\"Open In Colab\"/></a>"
      ]
    },
    {
      "cell_type": "markdown",
      "metadata": {
        "id": "PCiuI1K8iYD1",
        "colab_type": "text"
      },
      "source": [
        "# DAT257x: Reinforcement Learning Explained\n",
        "\n",
        "## Lab 2: Bandits\n",
        "\n",
        "### Exercise 2.2B: Optimistic Greedy"
      ]
    },
    {
      "cell_type": "code",
      "metadata": {
        "id": "eDDe5OpkicUm",
        "colab_type": "code",
        "colab": {}
      },
      "source": [
        "import numpy as np\n",
        "import sys\n",
        "\n",
        "### Interface\n",
        "class Environment(object):\n",
        "\n",
        "    def reset(self):\n",
        "        raise NotImplementedError('Inheriting classes must override reset.')\n",
        "\n",
        "    def actions(self):\n",
        "        raise NotImplementedError('Inheriting classes must override actions.')\n",
        "\n",
        "    def step(self):\n",
        "        raise NotImplementedError('Inheriting classes must override step')\n",
        "\n",
        "class ActionSpace(object):\n",
        "    \n",
        "    def __init__(self, actions):\n",
        "        self.actions = actions\n",
        "        self.n = len(actions)\n",
        "        \n",
        "### BanditEnv Environment\n",
        "        \n",
        "class BanditEnv(Environment):\n",
        "    def __init__(self, num_actions = 10, distribution = \"bernoulli\", evaluation_seed=\"387\"):\n",
        "        super(BanditEnv, self).__init__()\n",
        "        \n",
        "        self.action_space = ActionSpace(range(num_actions))\n",
        "        self.distribution = distribution\n",
        "        \n",
        "        np.random.seed(evaluation_seed)\n",
        "        \n",
        "        self.reward_parameters = None\n",
        "        if distribution == \"bernoulli\":\n",
        "            self.reward_parameters = np.random.rand(num_actions)\n",
        "        elif distribution == \"normal\":\n",
        "            self.reward_parameters = (np.random.randn(num_actions), np.random.rand(num_actions))\n",
        "        elif distribution == \"heavy-tail\":\n",
        "            self.reward_parameters = np.random.rand(num_actions)\n",
        "        else:\n",
        "            print(\"Please use a supported reward distribution\", flush = True)\n",
        "            sys.exit(0)\n",
        "        \n",
        "        if distribution != \"normal\":\n",
        "            self.optimal_arm = np.argmax(self.reward_parameters)\n",
        "        else:\n",
        "            self.optimal_arm = np.argmax(self.reward_parameters[0])\n",
        "    \n",
        "    def reset(self):\n",
        "        self.is_reset = True\n",
        "        return None\n",
        "    \n",
        "    def compute_gap(self, action):\n",
        "        if self.distribution != \"normal\":\n",
        "            gap = np.absolute(self.reward_parameters[self.optimal_arm] - self.reward_parameters[action])\n",
        "        else:\n",
        "            gap = np.absolute(self.reward_parameters[0][self.optimal_arm] - self.reward_parameters[0][action])\n",
        "        return gap\n",
        "    \n",
        "    def step(self, action):\n",
        "        self.is_reset = False\n",
        "        valid_action = True\n",
        "        if (action is None or action < 0 or action >= self.action_space.n):\n",
        "            print(\"Algorithm chose an invalid action; reset reward to -inf\", flush = True)\n",
        "            reward = float(\"-inf\")\n",
        "            gap = float(\"inf\")\n",
        "            valid_action = False\n",
        "        \n",
        "        if self.distribution == \"bernoulli\":\n",
        "            if valid_action:\n",
        "                reward = np.random.binomial(1, self.reward_parameters[action])\n",
        "                gap = self.reward_parameters[self.optimal_arm] - self.reward_parameters[action]\n",
        "        elif self.distribution == \"normal\":\n",
        "            if valid_action:\n",
        "                reward = self.reward_parameters[0][action] + self.reward_parameters[1][action] * np.random.randn()\n",
        "                gap = self.reward_parameters[0][self.optimal_arm] - self.reward_parameters[0][action]\n",
        "        elif self.distribution == \"heavy-tail\":\n",
        "            if valid_action:\n",
        "                reward = self.reward_parameters[action] + np.random.standard_cauchy()\n",
        "                gap = self.reward_parameters[self.optimal_arm] - self.reward_parameters[action]        #HACK to compute expected gap\n",
        "        else:\n",
        "            print(\"Please use a supported reward distribution\", flush = True)\n",
        "            sys.exit(0)\n",
        "            \n",
        "        return(None, reward, self.is_reset, '')\n",
        "import numpy as np\n",
        "import pandas as pd\n",
        "from collections import namedtuple\n",
        "from matplotlib import pyplot as plt\n",
        "\n",
        "EpisodeStats = namedtuple(\"Stats\",[\"episode_lengths\", \"episode_rewards\", \"episode_running_variance\"])\n",
        "TimestepStats = namedtuple(\"Stats\",[\"cumulative_rewards\", \"regrets\"])\n",
        "\n",
        "def plot_episode_stats(stats, smoothing_window=10, hideplot=False):\n",
        "    # Plot the episode length over time\n",
        "    fig1 = plt.figure(figsize=(10,5))\n",
        "    plt.plot(stats.episode_lengths)\n",
        "    plt.xlabel(\"Episode\")\n",
        "    plt.ylabel(\"Episode Length\")\n",
        "    plt.title(\"Episode Length over Time\")\n",
        "    if hideplot:\n",
        "        plt.close(fig1)\n",
        "    else:\n",
        "        plt.show(fig1)\n",
        "\n",
        "    # Plot the episode reward over time\n",
        "    fig2 = plt.figure(figsize=(10,5))\n",
        "    rewards_smoothed = pd.Series(stats.episode_rewards).rolling(smoothing_window, min_periods=smoothing_window).mean()\n",
        "    plt.plot(rewards_smoothed)\n",
        "    plt.xlabel(\"Episode\")\n",
        "    plt.ylabel(\"Episode Reward (Smoothed)\")\n",
        "    plt.title(\"Episode Reward over Time (Smoothed over window size {})\".format(smoothing_window))\n",
        "    if hideplot:\n",
        "        plt.close(fig2)\n",
        "    else:\n",
        "        plt.show(fig2)\n",
        "\n",
        "    return fig1, fig2\n",
        "\n",
        "def plot_pgresults(stats, smoothing_window=20, hideplot=False):\n",
        "    # Plot the episode length over time\n",
        "    fig1 = plt.figure(figsize=(10,5))\n",
        "    plt.plot(stats.episode_lengths)\n",
        "    plt.xlabel(\"Episode\")\n",
        "    plt.ylabel(\"Episode Length\")\n",
        "    plt.title(\"Episode Length over Time\")\n",
        "    if hideplot:\n",
        "        plt.close(fig1)\n",
        "    else:\n",
        "        plt.show(fig1)\n",
        "\n",
        "    # Plot the episode reward over time\n",
        "    fig2 = plt.figure(figsize=(10,5))\n",
        "    rewards_smoothed = pd.Series(stats.episode_rewards).rolling(smoothing_window, min_periods=smoothing_window).mean()\n",
        "    plt.plot(rewards_smoothed)\n",
        "    plt.xlabel(\"Episode\")\n",
        "    plt.ylabel(\"Episode Reward (Smoothed)\")\n",
        "    plt.title(\"Episode Reward over Time (Smoothed over window size {})\".format(smoothing_window))\n",
        "    if hideplot:\n",
        "        plt.close(fig2)\n",
        "    else:\n",
        "        plt.show(fig2)\n",
        "       \n",
        "    # Plot time steps and episode number\n",
        "    fig3 = plt.figure(figsize=(10,5))\n",
        "    plt.plot(stats.episode_running_variance)\n",
        "    plt.xlabel(\"Episode\")\n",
        "    plt.ylabel(\"Running Variance\")\n",
        "    plt.title(\"Running Variance over Time\")\n",
        "    if hideplot:\n",
        "        plt.close(fig3)\n",
        "    else:\n",
        "        plt.show(fig3)\n",
        "        \n",
        "    # Plot time steps and episode number\n",
        "    fig4 = plt.figure(figsize=(10,5))\n",
        "    plt.plot(np.arange(len(stats.episode_lengths)), np.cumsum(stats.episode_lengths))\n",
        "    plt.xlabel(\"Episode\")\n",
        "    plt.ylabel(\"Cumulative Episode Length\")\n",
        "    plt.title(\"Cumulative Episode Length over Time\")\n",
        "    if hideplot:\n",
        "        plt.close(fig4)\n",
        "    else:\n",
        "        plt.show(fig4)\n",
        "\n",
        "    return fig1, fig2, fig3, fig4\n",
        "\n",
        "def plot_dqnresults(stats, smoothing_window=20, hideplot=False):\n",
        "    # Plot the episode length over time\n",
        "    fig1 = plt.figure(figsize=(10,5))\n",
        "    plt.plot(stats.episode_lengths)\n",
        "    plt.xlabel(\"Episode\")\n",
        "    plt.ylabel(\"Episode Length\")\n",
        "    plt.title(\"Episode Length over Time\")\n",
        "    if hideplot:\n",
        "        plt.close(fig1)\n",
        "    else:\n",
        "        plt.show(fig1)\n",
        "\n",
        "    # Plot the episode reward over time\n",
        "    fig2 = plt.figure(figsize=(10,5))\n",
        "    rewards_smoothed = pd.Series(stats.episode_rewards).rolling(smoothing_window, min_periods=smoothing_window).mean()\n",
        "    plt.plot(rewards_smoothed)\n",
        "    plt.xlabel(\"Episode\")\n",
        "    plt.ylabel(\"Episode Reward (Smoothed)\")\n",
        "    plt.title(\"Episode Reward over Time (Smoothed over window size {})\".format(smoothing_window))\n",
        "    if hideplot:\n",
        "        plt.close(fig2)\n",
        "    else:\n",
        "        plt.show(fig2)\n",
        "              \n",
        "    # Plot time steps and episode number\n",
        "    fig4 = plt.figure(figsize=(10,5))\n",
        "    plt.plot(np.arange(len(stats.episode_lengths)), np.cumsum(stats.episode_lengths))\n",
        "    plt.xlabel(\"Episode\")\n",
        "    plt.ylabel(\"Cumulative Episode Length\")\n",
        "    plt.title(\"Cumulative Episode Length over Time\")\n",
        "    if hideplot:\n",
        "        plt.close(fig4)\n",
        "    else:\n",
        "        plt.show(fig4)\n",
        "\n",
        "    return fig1, fig2, fig3, fig4\n",
        "\n",
        "def plot_reward_regret(stats, smoothing_window=1, hideplot=False):\n",
        "    # Plot the cumulative reward over time\n",
        "    fig1 = plt.figure(figsize=(10,5))\n",
        "    plt.plot(stats.cumulative_rewards)\n",
        "    plt.xlabel(\"Timestep\")\n",
        "    plt.ylabel(\"Cumulative Reward\")\n",
        "    plt.title(\"Cumulative Reward over Timestep\")\n",
        "    if hideplot:\n",
        "        plt.close(fig1)\n",
        "    else:\n",
        "        plt.show(fig1)\n",
        "\n",
        "    # Plot the regret over time\n",
        "    fig2 = plt.figure(figsize=(10,5))\n",
        "    plt.plot(stats.regrets)\n",
        "    plt.xlabel(\"Timestep\")\n",
        "    plt.ylabel(\"Regret\")\n",
        "    plt.title(\"Regret over Timestep\")\n",
        "    if hideplot:\n",
        "        plt.close(fig2)\n",
        "    else:\n",
        "        plt.show(fig2)\n",
        "             \n",
        "    return fig1, fig2   \n",
        "\n",
        "def plot_arm_rewards(y, hideplot=False):\n",
        "    \n",
        "    N = len(y)\n",
        "    x = range(N)\n",
        "    width = 1/1.5\n",
        "    \n",
        "    fig1 = plt.figure(figsize=(10,5))\n",
        "    plt.bar(x, y, width)\n",
        "    \n",
        "    plt.xlabel(\"Arm\")\n",
        "    plt.ylabel(\"Probability\")\n",
        "    plt.title(\"Arm's Reward Distribution\")\n",
        "    \n",
        "    if hideplot:\n",
        "        plt.close(fig1)\n",
        "    else:\n",
        "        plt.show(fig1)\n",
        "             \n",
        "    return fig1\n",
        "import numpy as np\n",
        "import sys\n",
        "#import lib.plotting as plotting\n",
        "from matplotlib import pyplot as plt\n",
        "from matplotlib import pylab\n",
        "import matplotlib.gridspec as gridspec\n",
        "\n",
        "class Experiment(object):\n",
        "    def __init__(self, env, agent):\n",
        "        \n",
        "        self.env = env\n",
        "        self.agent = agent\n",
        "        \n",
        "        self.episode_length = np.array([0])\n",
        "        self.episode_reward = np.array([0])\n",
        "        \n",
        "        self.fig = pylab.figure(figsize=(10, 5))\n",
        "        gs = gridspec.GridSpec(2, 2)\n",
        "        self.ax = pylab.subplot(gs[:, 0])\n",
        "        self.ax.xaxis.set_visible(False)\n",
        "        self.ax.yaxis.set_visible(False)\n",
        "        \n",
        "        if hasattr(self.env, '_cliff'): # Hardcode to nicely display grid for cliffwalkingenv\n",
        "            self.ax.xaxis.set_visible(True)\n",
        "            self.ax.yaxis.set_visible(True)\n",
        "            self.ax.set_xticks(np.arange(-.5, 12, 1), minor=True);\n",
        "            self.ax.set_yticks(np.arange(-.5, 4, 1), minor=True);\n",
        "            self.ax.grid(which='minor', color='w', linestyle='-', linewidth=1)\n",
        "            \n",
        "        if hasattr(self.env, 'winds'): # Hardcode to nicely display grid for windygridworldenv\n",
        "            self.ax.xaxis.set_visible(True)\n",
        "            self.ax.yaxis.set_visible(True)\n",
        "            self.ax.set_xticks(np.arange(-.5, 10, 1), minor=True);\n",
        "            self.ax.set_yticks(np.arange(-.5, 7, 1), minor=True);\n",
        "            self.ax.grid(which='minor', color='w', linestyle='-', linewidth=1)\n",
        "        \n",
        "        self.ax1 = pylab.subplot(gs[0, 1])\n",
        "        self.ax1.yaxis.set_label_position(\"right\")\n",
        "        self.ax1.set_ylabel('Length')\n",
        "        \n",
        "        self.ax1.set_xlim(0, max(10, len(self.episode_length)+1))\n",
        "        self.ax1.set_ylim(0, 51)\n",
        "        \n",
        "        self.ax2 = pylab.subplot(gs[1, 1])\n",
        "        self.ax2.set_xlabel('Episode')\n",
        "        self.ax2.yaxis.set_label_position(\"right\")\n",
        "        self.ax2.set_ylabel('Reward')\n",
        "        self.ax2.set_xlim(0, max(10, len(self.episode_reward)+1))\n",
        "        self.ax2.set_ylim(0, 2)\n",
        "        \n",
        "        self.line, = self.ax1.plot(range(len(self.episode_length)),self.episode_length)\n",
        "        self.line2, = self.ax2.plot(range(len(self.episode_reward)),self.episode_reward)\n",
        "        \n",
        "    def update_display_step(self):\n",
        "        if not hasattr(self, 'imgplot'):\n",
        "            self.imgplot = self.ax.imshow(self.env.render(mode='rgb_array'), interpolation='none', cmap='viridis')\n",
        "        else:\n",
        "            self.imgplot.set_data(self.env.render(mode='rgb_array'))\n",
        "    \n",
        "        self.fig.canvas.draw()\n",
        "        \n",
        "    def update_display_episode(self):  \n",
        "        self.line.set_data(range(len(self.episode_length)),self.episode_length)\n",
        "        self.ax1.set_xlim(0, max(10, len(self.episode_length)+1))\n",
        "        self.ax1.set_ylim(0, max(self.episode_length)+1)\n",
        "        \n",
        "        self.line2.set_data(range(len(self.episode_reward)),self.episode_reward)\n",
        "        self.ax2.set_xlim(0, max(10, len(self.episode_reward)+1))\n",
        "        self.ax2.set_ylim(min(self.episode_reward)-1, max(self.episode_reward)+1)\n",
        "        \n",
        "        self.fig.canvas.draw()     \n",
        "        \n",
        "    def run_bandit(self, max_number_of_trials=1000, display_frequency=1):\n",
        "        self.fig.clf()\n",
        "        \n",
        "        print(\"Distribution:\", self.env.distribution, self.env.reward_parameters, flush = True)\n",
        "        print(\"Optimal arm:\", self.env.optimal_arm, flush = True)\n",
        "        \n",
        "        if self.env.distribution != \"normal\":\n",
        "            plot_arm_rewards(self.env.reward_parameters)\n",
        "        #else:\n",
        "            #plotting.plot_arm_rewards(self.env.reward_parameters[0])\n",
        "        \n",
        "        stats = TimestepStats(\n",
        "            cumulative_rewards=np.zeros(max_number_of_trials),\n",
        "            regrets=np.zeros(max_number_of_trials))   \n",
        "            \n",
        "        cumulative_reward = 0.0\n",
        "        cumulative_regret = 0.0\n",
        "        \n",
        "        for trial in range(max_number_of_trials):\n",
        "            action = self.agent.act()\n",
        "            \n",
        "            _ , reward, done, _ = self.env.step(action)       \n",
        "            self.agent.feedback(action, reward)\n",
        "            cumulative_reward += reward\n",
        "\n",
        "            gap = self.env.compute_gap(action)\n",
        "            if action != self.env.optimal_arm:\n",
        "                cumulative_regret += gap\n",
        "\n",
        "            stats.cumulative_rewards[trial] = cumulative_reward\n",
        "            stats.regrets[trial] = cumulative_regret\n",
        "            \n",
        "\n",
        "        print(\"--------------------------------------------------\", flush = True)\n",
        "        print(\"Policy:\", self.agent.name, \"\\nAverage Reward:\", cumulative_reward / max_number_of_trials, \\\n",
        "                \"\\nAverage Regret:\", cumulative_regret / max_number_of_trials, flush = True)\n",
        "        print(\"Arm pulls:\", self.agent.total_counts, flush = True)\n",
        "         \n",
        "        plot_reward_regret(stats)\n",
        "        \n",
        "    def run_agent(self, max_number_of_episodes=100, interactive = False, display_frequency=1):\n",
        "\n",
        "        # repeat for each episode\n",
        "        for episode_number in range(max_number_of_episodes):\n",
        "            \n",
        "            # initialize state\n",
        "            state = self.env.reset()\n",
        "            \n",
        "            done = False # used to indicate terminal state\n",
        "            R = 0 # used to display accumulated rewards for an episode\n",
        "            t = 0 # used to display accumulated steps for an episode i.e episode length\n",
        "            \n",
        "            # repeat for each step of episode, until state is terminal\n",
        "            while not done:\n",
        "                \n",
        "                # increase step counter - for display\n",
        "                t += 1\n",
        "                \n",
        "                # choose action from state \n",
        "                action = self.agent.act(state)\n",
        "                \n",
        "                # take action, observe reward and next state\n",
        "                next_state, reward, done, _ = self.env.step(action)\n",
        "                \n",
        "                # state <- next state\n",
        "                state = next_state\n",
        "                \n",
        "                R += reward # accumulate reward - for display\n",
        "                \n",
        "                # if interactive display, show update for each step\n",
        "                if interactive:\n",
        "                    self.update_display_step()\n",
        "            \n",
        "            self.episode_length = np.append(self.episode_length,t) # keep episode length - for display\n",
        "            self.episode_reward = np.append(self.episode_reward,R) # keep episode reward - for display \n",
        "            \n",
        "            # if interactive display, show update for the episode\n",
        "            if interactive:\n",
        "                self.update_display_episode()\n",
        "        \n",
        "        # if not interactive display, show graph at the end\n",
        "        if not interactive:\n",
        "            self.fig.clf()\n",
        "            stats = EpisodeStats(\n",
        "                episode_lengths=self.episode_length,\n",
        "                episode_rewards=self.episode_reward,\n",
        "                episode_running_variance=np.zeros(max_number_of_episodes))\n",
        "            plot_episode_stats(stats, display_frequency)\n",
        "        \n",
        "  \n",
        "    def run_qlearning(self, max_number_of_episodes=100, interactive = False, display_frequency=1):\n",
        "\n",
        "        # repeat for each episode\n",
        "        for episode_number in range(max_number_of_episodes):\n",
        "            \n",
        "            # initialize state\n",
        "            state = self.env.reset()\n",
        "            \n",
        "            done = False # used to indicate terminal state\n",
        "            R = 0 # used to display accumulated rewards for an episode\n",
        "            t = 0 # used to display accumulated steps for an episode i.e episode length\n",
        "            \n",
        "            # repeat for each step of episode, until state is terminal\n",
        "            while not done:\n",
        "                \n",
        "                t += 1 # increase step counter - for display\n",
        "                \n",
        "                # choose action from state using policy derived from Q\n",
        "                action = self.agent.act(state)\n",
        "                \n",
        "                # take action, observe reward and next state\n",
        "                next_state, reward, done, _ = self.env.step(action)\n",
        "                \n",
        "                # agent learn (Q-Learning update)\n",
        "                self.agent.learn(state, action, reward, next_state, done)\n",
        "                \n",
        "                # state <- next state\n",
        "                state = next_state\n",
        "                \n",
        "                R += reward # accumulate reward - for display\n",
        "                \n",
        "                # if interactive display, show update for each step\n",
        "                if interactive:\n",
        "                    self.update_display_step()\n",
        "            \n",
        "            self.episode_length = np.append(self.episode_length,t) # keep episode length - for display\n",
        "            self.episode_reward = np.append(self.episode_reward,R) # keep episode reward - for display \n",
        "            \n",
        "            # if interactive display, show update for the episode\n",
        "            if interactive:\n",
        "                self.update_display_episode()\n",
        "        \n",
        "        # if not interactive display, show graph at the end\n",
        "        if not interactive:\n",
        "            self.fig.clf()\n",
        "            stats = EpisodeStats(\n",
        "                episode_lengths=self.episode_length,\n",
        "                episode_rewards=self.episode_reward,\n",
        "                episode_running_variance=np.zeros(max_number_of_episodes))\n",
        "            plot_episode_stats(stats, display_frequency)\n",
        "            \n",
        "    def run_sarsa(self, max_number_of_episodes=100, interactive = False, display_frequency=1):\n",
        "\n",
        "        # repeat for each episode\n",
        "        for episode_number in range(max_number_of_episodes):\n",
        "            \n",
        "            # initialize state\n",
        "            state = self.env.reset()\n",
        "\n",
        "            done = False # used to indicate terminal state\n",
        "            R = 0 # used to display accumulated rewards for an episode\n",
        "            t = 0 # used to display accumulated steps for an episode i.e episode length\n",
        "            \n",
        "            # choose action from state using policy derived from Q\n",
        "            action = self.agent.act(state)\n",
        "            \n",
        "            # repeat for each step of episode, until state is terminal\n",
        "            while not done:\n",
        "                \n",
        "                t += 1 # increase step counter - for display\n",
        "                \n",
        "                # take action, observe reward and next state\n",
        "                next_state, reward, done, _ = self.env.step(action)\n",
        "                \n",
        "                # choose next action from next state using policy derived from Q\n",
        "                next_action = self.agent.act(next_state)\n",
        "                \n",
        "                # agent learn (SARSA update)\n",
        "                self.agent.learn(state, action, reward, next_state, next_action)\n",
        "                \n",
        "                # state <- next state, action <- next_action\n",
        "                state = next_state\n",
        "                action = next_action\n",
        "\n",
        "                R += reward # accumulate reward - for display\n",
        "                \n",
        "                # if interactive display, show update for each step\n",
        "                if interactive:\n",
        "                    self.update_display_step()\n",
        "            \n",
        "            self.episode_length = np.append(self.episode_length,t) # keep episode length - for display\n",
        "            self.episode_reward = np.append(self.episode_reward,R) # keep episode reward - for display \n",
        "            \n",
        "            # if interactive display, show update for the episode\n",
        "            if interactive:\n",
        "                self.update_display_episode()\n",
        "        \n",
        "        # if not interactive display, show graph at the end\n",
        "        if not interactive:\n",
        "            self.fig.clf()\n",
        "            stats = EpisodeStats(\n",
        "                episode_lengths=self.episode_length,\n",
        "                episode_rewards=self.episode_reward,\n",
        "                episode_running_variance=np.zeros(max_number_of_episodes))\n",
        "            plot_episode_stats(stats, display_frequency)"
      ],
      "execution_count": 0,
      "outputs": []
    },
    {
      "cell_type": "code",
      "metadata": {
        "id": "aUNVfmloiYD2",
        "colab_type": "code",
        "colab": {}
      },
      "source": [
        "import numpy as np\n",
        "import sys\n",
        "\n",
        "if \"../\" not in sys.path:\n",
        "    sys.path.append(\"../\") \n",
        "\n",
        "#from lib.envs.bandit import BanditEnv\n",
        "#from lib.simulation import Experiment"
      ],
      "execution_count": 0,
      "outputs": []
    },
    {
      "cell_type": "code",
      "metadata": {
        "id": "6LpGI71JiYD5",
        "colab_type": "code",
        "colab": {}
      },
      "source": [
        "#Policy interface\n",
        "class Policy:\n",
        "    #num_actions: (int) Number of arms [indexed by 0 ... num_actions-1]\n",
        "    def __init__(self, num_actions):\n",
        "        self.num_actions = num_actions\n",
        "    \n",
        "    def act(self):\n",
        "        pass\n",
        "        \n",
        "    def feedback(self, action, reward):\n",
        "        pass"
      ],
      "execution_count": 0,
      "outputs": []
    },
    {
      "cell_type": "code",
      "metadata": {
        "id": "lCUqjBK6iYD7",
        "colab_type": "code",
        "colab": {}
      },
      "source": [
        "#Greedy policy\n",
        "class Greedy(Policy):\n",
        "    def __init__(self, num_actions):\n",
        "        Policy.__init__(self, num_actions)\n",
        "        self.name = \"Greedy\"\n",
        "        self.total_rewards = np.zeros(num_actions, dtype = np.longdouble)\n",
        "        self.total_counts = np.zeros(num_actions, dtype = np.longdouble)\n",
        "    \n",
        "    def act(self):\n",
        "        current_averages = np.divide(self.total_rewards, self.total_counts, where = self.total_counts > 0)\n",
        "        current_averages[self.total_counts <= 0] = 0.5      #Correctly handles Bernoulli rewards; over-estimates otherwise\n",
        "        current_action = np.argmax(current_averages)\n",
        "        return current_action\n",
        "        \n",
        "    def feedback(self, action, reward):\n",
        "        self.total_rewards[action] += reward\n",
        "        self.total_counts[action] += 1"
      ],
      "execution_count": 0,
      "outputs": []
    },
    {
      "cell_type": "markdown",
      "metadata": {
        "id": "JedgUJs-iYD-",
        "colab_type": "text"
      },
      "source": [
        "Now let's implement an optimistic greedy policy based on the policy interface. The optimistic greedy policy initialize the ra to a large initial value R, which is implemented in the __init__() function, and then play the greedy algorithm."
      ]
    },
    {
      "cell_type": "markdown",
      "metadata": {
        "id": "9BjDIbMiiYD-",
        "colab_type": "text"
      },
      "source": [
        "We have given you some boiler plate code, you only need to modify the part as indicated."
      ]
    },
    {
      "cell_type": "code",
      "metadata": {
        "id": "AWFa4-ReiYD_",
        "colab_type": "code",
        "colab": {}
      },
      "source": [
        "#Optimistic Greedy policy\n",
        "class OptimisticGreedy(Greedy):\n",
        "    def __init__(self, num_actions, initial_value):\n",
        "        Greedy.__init__(self, num_actions)\n",
        "        self.name = \"Optimistic Greedy\"\n",
        "        \n",
        "        \"\"\"Implement optimistic greedy here\"\"\"\n",
        "        self.total_rewards += initial_value\n",
        "        self.total_counts += 1\n",
        "        \n",
        "        "
      ],
      "execution_count": 0,
      "outputs": []
    },
    {
      "cell_type": "markdown",
      "metadata": {
        "id": "XekIjnlMiYEC",
        "colab_type": "text"
      },
      "source": [
        "Let's prepare the simulation. We'll use the same parameters as the exercise with the epsilon greedy."
      ]
    },
    {
      "cell_type": "code",
      "metadata": {
        "id": "mCS6CSW-iYEC",
        "colab_type": "code",
        "colab": {}
      },
      "source": [
        "evaluation_seed = 1239\n",
        "num_actions = 10\n",
        "trials = 10000\n",
        "distribution = \"bernoulli\""
      ],
      "execution_count": 0,
      "outputs": []
    },
    {
      "cell_type": "markdown",
      "metadata": {
        "id": "U7AE4gCciYEF",
        "colab_type": "text"
      },
      "source": [
        "First, let's use R = 0. Run the simulation and observe the results."
      ]
    },
    {
      "cell_type": "code",
      "metadata": {
        "id": "5zrFAlD3jcW-",
        "colab_type": "code",
        "colab": {}
      },
      "source": [
        "#0.9313,"
      ],
      "execution_count": 0,
      "outputs": []
    },
    {
      "cell_type": "code",
      "metadata": {
        "id": "Oa0CfowpiYEG",
        "colab_type": "code",
        "outputId": "0acc3d48-5557-4dbb-edd6-1f3c2699fa9b",
        "colab": {
          "base_uri": "https://localhost:8080/",
          "height": 1000
        }
      },
      "source": [
        "R = 1\n",
        "env = BanditEnv(num_actions, distribution, evaluation_seed)\n",
        "agent = OptimisticGreedy(num_actions, R)\n",
        "experiment = Experiment(env, agent)\n",
        "experiment.run_bandit(trials)"
      ],
      "execution_count": 8,
      "outputs": [
        {
          "output_type": "stream",
          "text": [
            "Distribution: bernoulli [0.5061565  0.74836123 0.53065236 0.37446716 0.88168477 0.83849367\n",
            " 0.3951277  0.13217982 0.44509856 0.03459039]\n",
            "Optimal arm: 4\n"
          ],
          "name": "stdout"
        },
        {
          "output_type": "display_data",
          "data": {
            "text/plain": [
              "<Figure size 720x360 with 0 Axes>"
            ]
          },
          "metadata": {
            "tags": []
          }
        },
        {
          "output_type": "display_data",
          "data": {
            "image/png": "[encoded data removed]",
            "text/plain": [
              "<Figure size 720x360 with 1 Axes>"
            ]
          },
          "metadata": {
            "tags": []
          }
        },
        {
          "output_type": "stream",
          "text": [
            "--------------------------------------------------\n",
            "Policy: Optimistic Greedy \n",
            "Average Reward: 0.8745 \n",
            "Average Regret: 0.000559022112030377\n",
            "Arm pulls: [3.000e+00 2.000e+00 2.000e+00 3.000e+00 9.972e+03 2.000e+01 2.000e+00\n",
            " 2.000e+00 2.000e+00 2.000e+00]\n"
          ],
          "name": "stdout"
        },
        {
          "output_type": "display_data",
          "data": {
            "image/png": "[encoded data removed]",
            "text/plain": [
              "<Figure size 720x360 with 1 Axes>"
            ]
          },
          "metadata": {
            "tags": []
          }
        },
        {
          "output_type": "display_data",
          "data": {
            "image/png": "[encoded data removed]",
            "text/plain": [
              "<Figure size 720x360 with 1 Axes>"
            ]
          },
          "metadata": {
            "tags": []
          }
        }
      ]
    },
    {
      "cell_type": "markdown",
      "metadata": {
        "id": "mBhVOjvbiYEI",
        "colab_type": "text"
      },
      "source": [
        "What about if R is a very large number? Say 10000, the same number as the number of trials? Run the simulation again and observe the results."
      ]
    },
    {
      "cell_type": "markdown",
      "metadata": {
        "id": "bUElbdbBiYEJ",
        "colab_type": "text"
      },
      "source": [
        "Now, try several different number of R (1, 3, 5). Run the simulations and observe the results."
      ]
    },
    {
      "cell_type": "markdown",
      "metadata": {
        "id": "IvZWsIpeiYEK",
        "colab_type": "text"
      },
      "source": [
        "Which epsilon performs best with this problem?"
      ]
    },
    {
      "cell_type": "markdown",
      "metadata": {
        "id": "JDiJtbz4iYEL",
        "colab_type": "text"
      },
      "source": [
        "Now let's prepare another simulation by setting a different seed. "
      ]
    },
    {
      "cell_type": "code",
      "metadata": {
        "id": "BVjn_rtQiYEL",
        "colab_type": "code",
        "colab": {}
      },
      "source": [
        "evaluation_seed = 1239\n",
        "num_actions = 10\n",
        "trials = 10000\n",
        "distribution = \"bernoulli\""
      ],
      "execution_count": 0,
      "outputs": []
    },
    {
      "cell_type": "markdown",
      "metadata": {
        "id": "lGUAJHDniYEQ",
        "colab_type": "text"
      },
      "source": [
        "Try the range of R again (0, 1, 3, 5, 10000), run the simulations and observe the results."
      ]
    },
    {
      "cell_type": "code",
      "metadata": {
        "id": "QL08LmIPiYEQ",
        "colab_type": "code",
        "colab": {}
      },
      "source": [
        ""
      ],
      "execution_count": 0,
      "outputs": []
    }
  ]
}