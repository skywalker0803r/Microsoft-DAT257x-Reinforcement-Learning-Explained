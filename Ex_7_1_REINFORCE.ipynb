{
  "nbformat": 4,
  "nbformat_minor": 0,
  "metadata": {
    "kernelspec": {
      "name": "python3",
      "display_name": "Python 3"
    },
    "language_info": {
      "codemirror_mode": {
        "name": "ipython",
        "version": 3
      },
      "file_extension": ".py",
      "mimetype": "text/x-python",
      "name": "python",
      "nbconvert_exporter": "python",
      "pygments_lexer": "ipython3",
      "version": "3.5.4"
    },
    "colab": {
      "name": "Ex 7.1 REINFORCE.ipynb",
      "provenance": [],
      "include_colab_link": true
    },
    "accelerator": "GPU"
  },
  "cells": [
    {
      "cell_type": "markdown",
      "metadata": {
        "id": "view-in-github",
        "colab_type": "text"
      },
      "source": [
        "<a href=\"https://colab.research.google.com/github/skywalker0803r/Microsoft-DAT257x-Reinforcement-Learning-Explained/blob/master/Ex_7_1_REINFORCE.ipynb\" target=\"_parent\"><img src=\"https://colab.research.google.com/assets/colab-badge.svg\" alt=\"Open In Colab\"/></a>"
      ]
    },
    {
      "cell_type": "markdown",
      "metadata": {
        "id": "dKKJXMqs4NtT",
        "colab_type": "text"
      },
      "source": [
        "# DAT257x: Reinforcement Learning Explained\n",
        "\n",
        "## Lab 7: Policy Gradient\n",
        "\n",
        "### Exercise 7.1: REINFORCE"
      ]
    },
    {
      "cell_type": "markdown",
      "metadata": {
        "id": "0Oui92Ff4NtV",
        "colab_type": "text"
      },
      "source": [
        "This assignment features the Cartpole domain which tasks the agent with balancing a pole affixed to a movable cart. The agent employs two discrete actions which apply force to the cart. Episodes provide +1 reward for each step in which the pole has not fallen over, up to a maximum of 200 steps. \n",
        "\n",
        "\n",
        "## Objectives\n",
        "* Understand and implement REINFORCE loss function: $\\nabla_\\theta J(\\theta)=\\sum_{t=0}^T \\nabla_\\theta \\log \\pi_\\theta(a_t|s_t) R$\n",
        "* Implement psuedo-labels needed to train the policy network\n",
        "* Verify that your REINFORCE implementation solves Cartpole\n",
        "\n",
        "## Success Criterion\n",
        "When correctly implemented, the REINFORCE algorithm should be able to balance the poll for 200 steps within a few hundred episodes of learning. However, it's recommended to run the algorithm several times, as even a correct algorithm may fail to learn. "
      ]
    },
    {
      "cell_type": "code",
      "metadata": {
        "id": "enSq6hM14WcU",
        "colab_type": "code",
        "colab": {}
      },
      "source": [
        "#!pip install cntk\n",
        "#!sudo ln -s /usr/lib/x86_64-linux-gnu/libmpi_cxx.so.20 /usr/lib/x86_64-linux-gnu/libmpi_cxx.so.1\n",
        "#!sudo ln -s /usr/lib/x86_64-linux-gnu/libmpi.so.20.10.1 /usr/lib/x86_64-linux-gnu/libmpi.so.12"
      ],
      "execution_count": 0,
      "outputs": []
    },
    {
      "cell_type": "code",
      "metadata": {
        "id": "zKcyuwPe4NtW",
        "colab_type": "code",
        "colab": {
          "base_uri": "https://localhost:8080/",
          "height": 53
        },
        "outputId": "d160bbfa-da28-4a4c-f88e-8b1f55993983"
      },
      "source": [
        "import cntk as C\n",
        "import numpy as np\n",
        "import gym\n",
        "\n",
        "import sys\n",
        "if \"../\" not in sys.path:\n",
        "    sys.path.append(\"../\") \n",
        "    \n",
        "#from lib.running_variance import RunningVariance\n",
        "from itertools import count\n",
        "#from lib import plotting\n",
        "\n",
        "np.random.seed(123)\n",
        "C.cntk_py.set_fixed_random_seed(123)\n",
        "C.cntk_py.force_deterministic_algorithms()"
      ],
      "execution_count": 2,
      "outputs": [
        {
          "output_type": "stream",
          "text": [
            "/usr/local/lib/python3.6/dist-packages/cntk/cntk_py_init.py:56: UserWarning: Unsupported Linux distribution (ubuntu-18.04). CNTK supports Ubuntu 16.04 and above, only.\n",
            "  warnings.warn('Unsupported Linux distribution (%s-%s). CNTK supports Ubuntu 16.04 and above, only.' % (__my_distro__, __my_distro_ver__))\n"
          ],
          "name": "stderr"
        }
      ]
    },
    {
      "cell_type": "code",
      "metadata": {
        "id": "QRf4xShx7ZYp",
        "colab_type": "code",
        "colab": {}
      },
      "source": [
        "import numpy as np\n",
        "import pandas as pd\n",
        "from collections import namedtuple\n",
        "from matplotlib import pyplot as plt\n",
        "\n",
        "EpisodeStats = namedtuple(\"Stats\",[\"episode_lengths\", \"episode_rewards\", \"episode_running_variance\"])\n",
        "TimestepStats = namedtuple(\"Stats\",[\"cumulative_rewards\", \"regrets\"])\n",
        "\n",
        "def plot_episode_stats(stats, smoothing_window=10, hideplot=False):\n",
        "    # Plot the episode length over time\n",
        "    fig1 = plt.figure(figsize=(10,5))\n",
        "    plt.plot(stats.episode_lengths)\n",
        "    plt.xlabel(\"Episode\")\n",
        "    plt.ylabel(\"Episode Length\")\n",
        "    plt.title(\"Episode Length over Time\")\n",
        "    if hideplot:\n",
        "        plt.close(fig1)\n",
        "    else:\n",
        "        plt.show(fig1)\n",
        "\n",
        "    # Plot the episode reward over time\n",
        "    fig2 = plt.figure(figsize=(10,5))\n",
        "    rewards_smoothed = pd.Series(stats.episode_rewards).rolling(smoothing_window, min_periods=smoothing_window).mean()\n",
        "    plt.plot(rewards_smoothed)\n",
        "    plt.xlabel(\"Episode\")\n",
        "    plt.ylabel(\"Episode Reward (Smoothed)\")\n",
        "    plt.title(\"Episode Reward over Time (Smoothed over window size {})\".format(smoothing_window))\n",
        "    if hideplot:\n",
        "        plt.close(fig2)\n",
        "    else:\n",
        "        plt.show(fig2)\n",
        "\n",
        "    return fig1, fig2\n",
        "\n",
        "def plot_pgresults(stats, smoothing_window=20, hideplot=False):\n",
        "    # Plot the episode length over time\n",
        "    fig1 = plt.figure(figsize=(10,5))\n",
        "    plt.plot(stats.episode_lengths)\n",
        "    plt.xlabel(\"Episode\")\n",
        "    plt.ylabel(\"Episode Length\")\n",
        "    plt.title(\"Episode Length over Time\")\n",
        "    if hideplot:\n",
        "        plt.close(fig1)\n",
        "    else:\n",
        "        plt.show(fig1)\n",
        "\n",
        "    # Plot the episode reward over time\n",
        "    fig2 = plt.figure(figsize=(10,5))\n",
        "    rewards_smoothed = pd.Series(stats.episode_rewards).rolling(smoothing_window, min_periods=smoothing_window).mean()\n",
        "    plt.plot(rewards_smoothed)\n",
        "    plt.xlabel(\"Episode\")\n",
        "    plt.ylabel(\"Episode Reward (Smoothed)\")\n",
        "    plt.title(\"Episode Reward over Time (Smoothed over window size {})\".format(smoothing_window))\n",
        "    if hideplot:\n",
        "        plt.close(fig2)\n",
        "    else:\n",
        "        plt.show(fig2)\n",
        "       \n",
        "    # Plot time steps and episode number\n",
        "    fig3 = plt.figure(figsize=(10,5))\n",
        "    plt.plot(stats.episode_running_variance)\n",
        "    plt.xlabel(\"Episode\")\n",
        "    plt.ylabel(\"Running Variance\")\n",
        "    plt.title(\"Running Variance over Time\")\n",
        "    if hideplot:\n",
        "        plt.close(fig3)\n",
        "    else:\n",
        "        plt.show(fig3)\n",
        "        \n",
        "    # Plot time steps and episode number\n",
        "    fig4 = plt.figure(figsize=(10,5))\n",
        "    plt.plot(np.arange(len(stats.episode_lengths)), np.cumsum(stats.episode_lengths))\n",
        "    plt.xlabel(\"Episode\")\n",
        "    plt.ylabel(\"Cumulative Episode Length\")\n",
        "    plt.title(\"Cumulative Episode Length over Time\")\n",
        "    if hideplot:\n",
        "        plt.close(fig4)\n",
        "    else:\n",
        "        plt.show(fig4)\n",
        "\n",
        "    return fig1, fig2, fig3, fig4\n",
        "\n",
        "def plot_dqnresults(stats, smoothing_window=20, hideplot=False):\n",
        "    # Plot the episode length over time\n",
        "    fig1 = plt.figure(figsize=(10,5))\n",
        "    plt.plot(stats.episode_lengths)\n",
        "    plt.xlabel(\"Episode\")\n",
        "    plt.ylabel(\"Episode Length\")\n",
        "    plt.title(\"Episode Length over Time\")\n",
        "    if hideplot:\n",
        "        plt.close(fig1)\n",
        "    else:\n",
        "        plt.show(fig1)\n",
        "\n",
        "    # Plot the episode reward over time\n",
        "    fig2 = plt.figure(figsize=(10,5))\n",
        "    rewards_smoothed = pd.Series(stats.episode_rewards).rolling(smoothing_window, min_periods=smoothing_window).mean()\n",
        "    plt.plot(rewards_smoothed)\n",
        "    plt.xlabel(\"Episode\")\n",
        "    plt.ylabel(\"Episode Reward (Smoothed)\")\n",
        "    plt.title(\"Episode Reward over Time (Smoothed over window size {})\".format(smoothing_window))\n",
        "    if hideplot:\n",
        "        plt.close(fig2)\n",
        "    else:\n",
        "        plt.show(fig2)\n",
        "              \n",
        "    # Plot time steps and episode number\n",
        "    fig4 = plt.figure(figsize=(10,5))\n",
        "    plt.plot(np.arange(len(stats.episode_lengths)), np.cumsum(stats.episode_lengths))\n",
        "    plt.xlabel(\"Episode\")\n",
        "    plt.ylabel(\"Cumulative Episode Length\")\n",
        "    plt.title(\"Cumulative Episode Length over Time\")\n",
        "    if hideplot:\n",
        "        plt.close(fig4)\n",
        "    else:\n",
        "        plt.show(fig4)\n",
        "\n",
        "    return fig1, fig2, fig3, fig4\n",
        "\n",
        "def plot_reward_regret(stats, smoothing_window=1, hideplot=False):\n",
        "    # Plot the cumulative reward over time\n",
        "    fig1 = plt.figure(figsize=(10,5))\n",
        "    plt.plot(stats.cumulative_rewards)\n",
        "    plt.xlabel(\"Timestep\")\n",
        "    plt.ylabel(\"Cumulative Reward\")\n",
        "    plt.title(\"Cumulative Reward over Timestep\")\n",
        "    if hideplot:\n",
        "        plt.close(fig1)\n",
        "    else:\n",
        "        plt.show(fig1)\n",
        "\n",
        "    # Plot the regret over time\n",
        "    fig2 = plt.figure(figsize=(10,5))\n",
        "    plt.plot(stats.regrets)\n",
        "    plt.xlabel(\"Timestep\")\n",
        "    plt.ylabel(\"Regret\")\n",
        "    plt.title(\"Regret over Timestep\")\n",
        "    if hideplot:\n",
        "        plt.close(fig2)\n",
        "    else:\n",
        "        plt.show(fig2)\n",
        "             \n",
        "    return fig1, fig2   \n",
        "\n",
        "def plot_arm_rewards(y, hideplot=False):\n",
        "    \n",
        "    N = len(y)\n",
        "    x = range(N)\n",
        "    width = 1/1.5\n",
        "    \n",
        "    fig1 = plt.figure(figsize=(10,5))\n",
        "    plt.bar(x, y, width)\n",
        "    \n",
        "    plt.xlabel(\"Arm\")\n",
        "    plt.ylabel(\"Probability\")\n",
        "    plt.title(\"Arm's Reward Distribution\")\n",
        "    \n",
        "    if hideplot:\n",
        "        plt.close(fig1)\n",
        "    else:\n",
        "        plt.show(fig1)\n",
        "             \n",
        "    return fig1   "
      ],
      "execution_count": 0,
      "outputs": []
    },
    {
      "cell_type": "code",
      "metadata": {
        "id": "9ZXyQP4B7SGb",
        "colab_type": "code",
        "colab": {}
      },
      "source": [
        "class RunningVariance:\n",
        "    # Keeps a running estimate of variance\n",
        "\n",
        "    def __init__(self):\n",
        "        self.m_k = None\n",
        "        self.s_k = None\n",
        "        self.k = None\n",
        "\n",
        "    def add(self, x):\n",
        "        if not self.m_k:\n",
        "            self.m_k = x\n",
        "            self.s_k = 0\n",
        "            self.k = 0\n",
        "        else:\n",
        "            old_mk = self.m_k\n",
        "            self.k += 1\n",
        "            self.m_k += (x - self.m_k) / self.k\n",
        "            self.s_k += (x - old_mk) * (x - self.m_k)\n",
        "\n",
        "    def get_variance(self):\n",
        "        return self.s_k / (self.k - 1)"
      ],
      "execution_count": 0,
      "outputs": []
    },
    {
      "cell_type": "markdown",
      "metadata": {
        "id": "mbK7jeFr4NtZ",
        "colab_type": "text"
      },
      "source": [
        "Now that we've finished with imports we need to create the CartPole environment. (See https://gym.openai.com/envs/CartPole-v0/) for more details. Additionally, we'll save the size of the state and action spaces, and define the number of hidden units in our network as well as how often (in episodes) the Reinforce update is applied. These parameters don't need to be changed, but you can try varying the hidden_size and update_frequency and see how learning is affected."
      ]
    },
    {
      "cell_type": "code",
      "metadata": {
        "id": "VH4TlMXH4Nta",
        "colab_type": "code",
        "colab": {}
      },
      "source": [
        "env = gym.make('CartPole-v0')\n",
        "\n",
        "state_dim = env.observation_space.shape[0] # Dimension of state space\n",
        "action_count = env.action_space.n # Number of actions\n",
        "hidden_size = 128 # Number of hidden units\n",
        "update_frequency = 20"
      ],
      "execution_count": 0,
      "outputs": []
    },
    {
      "cell_type": "markdown",
      "metadata": {
        "id": "neijqBiz4Ntd",
        "colab_type": "text"
      },
      "source": [
        "Next we will define the policy network."
      ]
    },
    {
      "cell_type": "code",
      "metadata": {
        "id": "AWc5iyBd4Nte",
        "colab_type": "code",
        "colab": {}
      },
      "source": [
        "# The policy network maps an observation to a probability of taking action 0 or 1.\n",
        "observations = C.sequence.input_variable(state_dim, np.float32, name=\"obs\")\n",
        "W1 = C.parameter(shape=(state_dim, hidden_size), init=C.glorot_uniform(), name=\"W1\")\n",
        "b1 = C.parameter(shape=hidden_size, name=\"b1\")\n",
        "layer1 = C.relu(C.times(observations, W1) + b1)\n",
        "W2 = C.parameter(shape=(hidden_size, action_count), init=C.glorot_uniform(), name=\"W2\")\n",
        "b2 = C.parameter(shape=action_count, name=\"b2\")\n",
        "layer2 = C.times(layer1, W2) + b2\n",
        "output = C.sigmoid(layer2, name=\"output\")"
      ],
      "execution_count": 0,
      "outputs": []
    },
    {
      "cell_type": "markdown",
      "metadata": {
        "id": "kZts5l854Nth",
        "colab_type": "text"
      },
      "source": [
        "Now you must define the loss function for training the policy network. \n",
        "\n",
        "- Recall that the desired loss function is: $\\frac{1}{m}\\sum_1^m \\nabla_\\theta \\log \\pi_\\theta(a_t|s_t) R$. \n",
        "\n",
        "- Label is a variable corresponding to $a_t$, the action the policy selected. \n",
        "\n",
        "- output is the policy network that maps an observation to a probability of taking an action.\n",
        "\n",
        "- And return_weight is a scalar that will cointain the return $R$.\n",
        "\n",
        "The current loss function is incorrect and will need to be modified."
      ]
    },
    {
      "cell_type": "code",
      "metadata": {
        "id": "VsIrapcW4Nti",
        "colab_type": "code",
        "colab": {}
      },
      "source": [
        "# Label will tell the network what action it should have taken.\n",
        "label = C.sequence.input_variable(1, np.float32, name=\"label\")\n",
        "# return_weight is a scalar containing the discounted return. It will scale the PG loss.\n",
        "return_weight = C.sequence.input_variable(1, np.float32, name=\"weight\")\n",
        "\n",
        "# TODO 1\n",
        "# Modify loss function to implement policy gradient loss.\n",
        "# The loss should encourage the network's output to become more like the provided label, \n",
        "# when the Return is positive and less like the label when the Return is negative.\n",
        "# PG_Loss = mean( log(probability(a|s)) * R(s))\n",
        "# Hint: C.log() and C.square() may come in handy. \n",
        "loss = -C.reduce_mean(C.log(C.square(label - output) + 1e-4) * return_weight, axis=0, name='loss')"
      ],
      "execution_count": 0,
      "outputs": []
    },
    {
      "cell_type": "markdown",
      "metadata": {
        "id": "Fg6MEZuP4Ntk",
        "colab_type": "text"
      },
      "source": [
        "Next we build the optimizer that contains hyperparameters for training the policy network. Also we create a buffer which will accumulate gradients throughout update_frequency episodes."
      ]
    },
    {
      "cell_type": "code",
      "metadata": {
        "id": "LCi9DLs84Ntl",
        "colab_type": "code",
        "colab": {}
      },
      "source": [
        "# Build the optimizer\n",
        "lr_schedule = C.learning_rate_schedule(lr=0.1, unit=C.UnitType.sample) \n",
        "m_schedule = C.momentum_schedule(0.99)\n",
        "vm_schedule = C.momentum_schedule(0.999)\n",
        "optimizer = C.adam([W1, W2], lr_schedule, momentum=m_schedule, variance_momentum=vm_schedule)\n",
        "\n",
        "# Create a buffer to manually accumulate gradients\n",
        "gradBuffer = dict((var.name, np.zeros(shape=var.shape)) for var in loss.parameters if var.name in ['W1', 'W2', 'b1', 'b2'])"
      ],
      "execution_count": 0,
      "outputs": []
    },
    {
      "cell_type": "markdown",
      "metadata": {
        "id": "-N_iDp-S4Nto",
        "colab_type": "text"
      },
      "source": [
        "This is a helper function to discount rewards."
      ]
    },
    {
      "cell_type": "code",
      "metadata": {
        "id": "8w_l0vx74Ntp",
        "colab_type": "code",
        "colab": {}
      },
      "source": [
        "def discount_rewards(r, gamma=0.999):\n",
        "    \"\"\"Take 1D float array of rewards and compute discounted reward \"\"\"\n",
        "    discounted_r = np.zeros_like(r)\n",
        "    running_add = 0\n",
        "    for t in reversed(range(0, r.size)):\n",
        "        running_add = running_add * gamma + r[t]\n",
        "        discounted_r[t] = running_add\n",
        "    return discounted_r"
      ],
      "execution_count": 0,
      "outputs": []
    },
    {
      "cell_type": "markdown",
      "metadata": {
        "id": "Xj2cMMsp4Nts",
        "colab_type": "text"
      },
      "source": [
        "Here is the main training loop. The only part that needs to be modified is the code for choosing a psuedo-label. Remember this pseudo-label should encourage the agent to increase the probability of the action it selected."
      ]
    },
    {
      "cell_type": "code",
      "metadata": {
        "scrolled": false,
        "id": "AmAdtrpv4Ntt",
        "colab_type": "code",
        "colab": {
          "base_uri": "https://localhost:8080/",
          "height": 467
        },
        "outputId": "35863959-11d9-4ee7-c4b8-daf8f15963cf"
      },
      "source": [
        "running_variance = RunningVariance()\n",
        "reward_sum = 0\n",
        "\n",
        "max_number_of_episodes = 500\n",
        "\n",
        "stats = EpisodeStats(\n",
        "    episode_lengths=np.zeros(max_number_of_episodes),\n",
        "    episode_rewards=np.zeros(max_number_of_episodes),\n",
        "    episode_running_variance=np.zeros(max_number_of_episodes))   \n",
        "    \n",
        "for episode_number in range(max_number_of_episodes):\n",
        "    states, rewards, labels = [],[],[]\n",
        "    done = False\n",
        "    \n",
        "    observation = env.reset()\n",
        "    t = 1\n",
        "    while not done:\n",
        "        \n",
        "        state = np.reshape(observation, [1, state_dim]).astype(np.float32)\n",
        "        states.append(state)\n",
        "\n",
        "        # Run the policy network and get an action to take.\n",
        "        prob = output.eval(arguments={observations: state})[0][0][0]\n",
        "        # Sample from the bernoulli output distribution to get a discrete action\n",
        "        action = 1 if np.random.uniform() < prob else 0\n",
        "\n",
        "        # TODO 2\n",
        "        # Modify saved labels to encourage the network to increase\n",
        "        # the probability of the chosen action. This label will be used\n",
        "        # in the loss function above.\n",
        "        \n",
        "        y = 1 if action == 0 else 0  # a \"fake label\"\n",
        "        labels.append(y)\n",
        "    \n",
        "        # step the environment and get new measurements\n",
        "        observation, reward, done, _ = env.step(action)\n",
        "\n",
        "        # Uncomment this line to render the environment\n",
        "        # env.render()\n",
        "\n",
        "        reward_sum += float(reward)\n",
        "\n",
        "        # Record reward (has to be done after we call step() to get reward for previous action)\n",
        "        rewards.append(float(reward))\n",
        "                    \n",
        "        stats.episode_rewards[episode_number] += reward\n",
        "        stats.episode_lengths[episode_number] = t\n",
        "        \n",
        "        t += 1\n",
        "\n",
        "    # Stack together all inputs, hidden states, action gradients, and rewards for this episode\n",
        "    epx = np.vstack(states)\n",
        "    epl = np.vstack(labels).astype(np.float32)\n",
        "    epr = np.vstack(rewards).astype(np.float32)\n",
        "\n",
        "    # Compute the discounted reward backwards through time.\n",
        "    discounted_epr = discount_rewards(epr)\n",
        "\n",
        "    # Keep a running estimate over the variance of of the discounted rewards\n",
        "    for r in discounted_epr:    \n",
        "        running_variance.add(r[0])\n",
        "\n",
        "    # Forward pass\n",
        "    arguments = {observations: epx, label: epl, return_weight: discounted_epr}\n",
        "    state, outputs_map = loss.forward(arguments, outputs=loss.outputs,\n",
        "                                      keep_for_backward=loss.outputs)\n",
        "\n",
        "    # Backward pass\n",
        "    root_gradients = {v: np.ones_like(o) for v, o in outputs_map.items()}\n",
        "    vargrads_map = loss.backward(state, root_gradients, variables=set([W1, W2]))\n",
        "\n",
        "    for var, grad in vargrads_map.items():\n",
        "        gradBuffer[var.name] += grad\n",
        "\n",
        "    # Only update every 20 episodes to reduce noise\n",
        "    if episode_number % update_frequency == 0:\n",
        "        grads = {W1: gradBuffer['W1'].astype(np.float32),\n",
        "                 W2: gradBuffer['W2'].astype(np.float32)}\n",
        "        updated = optimizer.update(grads, update_frequency)\n",
        "\n",
        "        # reset the gradBuffer\n",
        "        gradBuffer = dict((var.name, np.zeros(shape=var.shape))\n",
        "                          for var in loss.parameters if var.name in ['W1', 'W2', 'b1', 'b2'])\n",
        "\n",
        "        print('Episode: %d. Average reward for episode %f. Variance %f' % (episode_number, reward_sum / update_frequency, running_variance.get_variance()))\n",
        "\n",
        "        reward_sum = 0\n",
        "\n",
        "    stats.episode_running_variance[episode_number] = running_variance.get_variance()\n",
        "    \n"
      ],
      "execution_count": 10,
      "outputs": [
        {
          "output_type": "stream",
          "text": [
            "Episode: 0. Average reward for episode 1.250000. Variance 48.815562\n",
            "Episode: 20. Average reward for episode 44.550000. Variance 275.056489\n",
            "Episode: 40. Average reward for episode 58.400000. Variance 375.003076\n",
            "Episode: 60. Average reward for episode 67.650000. Variance 504.655545\n",
            "Episode: 80. Average reward for episode 90.800000. Variance 908.224562\n",
            "Episode: 100. Average reward for episode 152.600000. Variance 1705.345034\n",
            "Episode: 120. Average reward for episode 171.450000. Variance 2067.774009\n",
            "Episode: 140. Average reward for episode 131.550000. Variance 2046.074674\n",
            "Episode: 160. Average reward for episode 158.800000. Variance 2098.334029\n",
            "Episode: 180. Average reward for episode 192.150000. Variance 2288.635061\n",
            "Episode: 200. Average reward for episode 197.000000. Variance 2418.200212\n",
            "Episode: 220. Average reward for episode 200.000000. Variance 2509.636630\n",
            "Episode: 240. Average reward for episode 200.000000. Variance 2568.964671\n",
            "Episode: 260. Average reward for episode 200.000000. Variance 2609.423439\n",
            "Episode: 280. Average reward for episode 200.000000. Variance 2638.106255\n",
            "Episode: 300. Average reward for episode 200.000000. Variance 2659.082917\n",
            "Episode: 320. Average reward for episode 200.000000. Variance 2674.819249\n",
            "Episode: 340. Average reward for episode 200.000000. Variance 2686.877164\n",
            "Episode: 360. Average reward for episode 200.000000. Variance 2696.283266\n",
            "Episode: 380. Average reward for episode 200.000000. Variance 2703.733733\n",
            "Episode: 400. Average reward for episode 200.000000. Variance 2709.713460\n",
            "Episode: 420. Average reward for episode 200.000000. Variance 2714.568105\n",
            "Episode: 440. Average reward for episode 200.000000. Variance 2718.549108\n",
            "Episode: 460. Average reward for episode 200.000000. Variance 2721.842673\n",
            "Episode: 480. Average reward for episode 200.000000. Variance 2724.588900\n"
          ],
          "name": "stdout"
        }
      ]
    },
    {
      "cell_type": "code",
      "metadata": {
        "id": "69stnOf54Ntw",
        "colab_type": "code",
        "colab": {
          "base_uri": "https://localhost:8080/",
          "height": 1000
        },
        "outputId": "1a1c128e-27ad-4906-b32f-d57801943c39"
      },
      "source": [
        "plot_pgresults(stats)"
      ],
      "execution_count": 11,
      "outputs": [
        {
          "output_type": "display_data",
          "data": {
            "image/png": "[encoded data removed]",
            "text/plain": [
              "<Figure size 720x360 with 1 Axes>"
            ]
          },
          "metadata": {
            "tags": []
          }
        },
        {
          "output_type": "display_data",
          "data": {
            "image/png": "[encoded data removed]",
            "text/plain": [
              "<Figure size 720x360 with 1 Axes>"
            ]
          },
          "metadata": {
            "tags": []
          }
        },
        {
          "output_type": "display_data",
          "data": {
            "image/png": "[encoded data removed]",
            "text/plain": [
              "<Figure size 720x360 with 1 Axes>"
            ]
          },
          "metadata": {
            "tags": []
          }
        },
        {
          "output_type": "display_data",
          "data": {
            "image/png": "[encoded data removed]",
            "text/plain": [
              "<Figure size 720x360 with 1 Axes>"
            ]
          },
          "metadata": {
            "tags": []
          }
        },
        {
          "output_type": "execute_result",
          "data": {
            "text/plain": [
              "(<Figure size 720x360 with 1 Axes>,\n",
              " <Figure size 720x360 with 1 Axes>,\n",
              " <Figure size 720x360 with 1 Axes>,\n",
              " <Figure size 720x360 with 1 Axes>)"
            ]
          },
          "metadata": {
            "tags": []
          },
          "execution_count": 11
        }
      ]
    },
    {
      "cell_type": "code",
      "metadata": {
        "id": "NFBespGc9K6O",
        "colab_type": "code",
        "colab": {}
      },
      "source": [
        ""
      ],
      "execution_count": 0,
      "outputs": []
    }
  ]
}